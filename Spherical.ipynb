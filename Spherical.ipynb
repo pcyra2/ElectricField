{
 "cells": [
  {
   "cell_type": "code",
   "execution_count": 1,
   "metadata": {
    "pycharm": {
     "name": "#%%\n"
    }
   },
   "outputs": [],
   "source": [
    "### Import all extra functions ###\n",
    "\n",
    "import plotly.graph_objects as go\n",
    "import numpy as numpy\n",
    "import dash\n",
    "from dash import dcc\n",
    "from dash import html\n",
    "from dash.dependencies import Input, Output\n",
    "import time\n",
    "import Utils ### Custom function scripts, Thanks to Tom Irons of the Teale group (UoN School of Chemistry) for molecule generation code. 19/7/22 ###\n"
   ]
  },
  {
   "cell_type": "markdown",
   "source": [
    "# Variables input section"
   ],
   "metadata": {
    "collapsed": false,
    "pycharm": {
     "name": "#%% md\n"
    }
   }
  },
  {
   "cell_type": "code",
   "execution_count": null,
   "metadata": {
    "pycharm": {
     "name": "#%%\n",
     "is_executing": true
    }
   },
   "outputs": [],
   "source": [
    "### Variables ###\n",
    "work_dir = \"/data/COLABS/ANNA/\" ### Folder with all relevant files ###\n",
    "server = \"loginchem01.nottingham.ac.uk\" ### Set to login001.augusta.nottingham.ac.uk for HPC access, if \"LOCAL\", no server will be used. ###\n",
    "qm_package = \"QChem\" ### Set to either QChem or GAUSSIAN ###\n",
    "host_work_dir = \"/home/pcyra2/COLABS/ANNA/\"\n",
    "start_coordinate = \"Coords.xyz\"\n",
    "calculate_data = False ### Whether to run the data calculations (if you're just doing analysis, set to False) ###\n",
    "qm_functional = \"TPSS\"\n",
    "qm_basis_set = \"6-311++G**\"\n",
    "qm_dispersion = \"D3\"\n",
    "system_spin = \"1\" ### Spin/multiplicity in the format the QM package requires, no calculation is performed on this and is used \"as is\" ###\n",
    "system_charge = \"1\"\n",
    "spherical_datapoints = 300 ### Number of single point calculations required ###\n",
    "charge_value = 3 ### Value of point charges around the sphere ###\n",
    "radius = 30 ### Radius of sphere ###\n",
    "threads = 4 ### Number of threads to give each single point calculation ###\n",
    "mem = 2 ### Ammount of memory to give each single point calculation ###\n",
    "random = True ### Decides whether spherical points are random or uniform ###\n",
    "gen_newcoord = True ### Decides whether to generate new coordinate file in format for later visualisation ###\n",
    "recenter = True ### Decides whether to recenter the coordinates if not already in the center. ###\n",
    "center_type = \"atom\" ### either simple, mass weighted, atom, or translate ###\n",
    "center_info = [3] ### if atom, put atom number in array, if translate, put coordinates in array ([x,y,z]) ###\n",
    "coord_filename = \"coords_formatted.txt\" ### Coord file, with format X, Y, Z, Atomic number (hint: H = 1, C = 6, N = 7, O = 8), (only change if adding own file) ###\n",
    "energies_filename = \"Energy.xyzc\" ### Spherical energy file, with format X, Y, Z, C (only change if you're adding your own file) ###\n",
    "resolution=20 ### Resolution of sphere, increase to improve contours but decrease for speed, Suggest 100 ###\n"
   ]
  },
  {
   "cell_type": "markdown",
   "source": [
    " # Data generation section"
   ],
   "metadata": {
    "collapsed": false,
    "pycharm": {
     "name": "#%% md\n"
    }
   }
  },
  {
   "cell_type": "code",
   "execution_count": null,
   "metadata": {
    "pycharm": {
     "name": "#%%\n",
     "is_executing": true
    }
   },
   "outputs": [],
   "source": [
    "### Calculation setup ###\n",
    "if calculate_data == True:\n",
    "    (type_atom, x_atom, y_atom, z_atom) = Utils.CoordGet(work_dir,start_coordinate) ### loads in initial coordinates ###\n",
    "\n",
    "    (x_atom, y_atom, z_atom) = Utils.CoordCheck(type_atom, x_atom, y_atom, z_atom, recenter, center_type, center_info) ### Checks the coordinates to make sure they exist and locates the center of the system ###\n",
    "\n",
    "    if gen_newcoord == True:    Utils.FormatCoord(type_atom, x_atom, y_atom, z_atom,work_dir) ### Generates formatted coordinate file if requested ###\n",
    "\n",
    "    if random == True: Utils.RandomCoords(work_dir,spherical_datapoints,radius) ### Generates random spherical points ###\n",
    "    else: ### Generates non-random points about the sphere ###\n",
    "        print(\"Warning, this method is currently unsupported and probably doesnt work. DONT USE UNLESS YOU HAVE FIXED IT\")\n",
    "        (px,py,pz) = Utils.SphereGen(0,0,0,radius,spherical_datapoints)\n",
    "        with open(work_dir + \"ChargeP.xyz\",'w') as f:\n",
    "            for i in range(len(px)):\n",
    "                print(str(px[i])+\"\\t\"+str(py[i])+\"\\t\"+str(pz[i]),file=f)\n",
    "        with open(work_dir + \"ChargeN.xyz\",'w') as f:\n",
    "            for i in range(len(px)):\n",
    "                print(str(-px[i])+\"\\t\"+str(-py[i])+\"\\t\"+str(-pz[i]),file=f)\n",
    "\n",
    "    print(\"Generating input files\")\n",
    "\n",
    "    Utils.GenSP(type_atom, x_atom, y_atom, z_atom, work_dir, charge_value, mem, threads, qm_functional, qm_basis_set, system_charge, system_spin, qm_dispersion, qm_package)\n",
    "\n",
    "    Utils.SPRun(work_dir,mem,threads,spherical_datapoints,host_work_dir,server,qm_package)\n",
    "else:\n",
    "    print(\"Data should already be calculated.\")\n"
   ]
  },
  {
   "cell_type": "markdown",
   "metadata": {
    "pycharm": {
     "name": "#%% md\n"
    }
   },
   "source": [
    "# Analysis section starts here"
   ]
  },
  {
   "cell_type": "code",
   "execution_count": null,
   "metadata": {
    "pycharm": {
     "name": "#%%\n",
     "is_executing": true
    }
   },
   "outputs": [],
   "source": [
    "# ### Variables, This is the only part that you should edit. ###\n",
    "# # work_dir = \"/data/COLABS/Christof_MARKO/planarB3LYP/\" ### Folder with all relevant files ###\n",
    "# coord_filename = \"coords_formatted.txt\" ### Coord file, with format X, Y, Z, Atomic number (hint: H = 1, C = 6, N = 7, O = 8)###\n",
    "# energies_filename = \"Energy.xyzc\" ### Spherical energy file, with format X, Y, Z, C ###\n",
    "# # radius = 9 ### Radius of sphere ###\n",
    "# resolution=20 ### Resolution of sphere ###"
   ]
  },
  {
   "cell_type": "code",
   "execution_count": null,
   "metadata": {
    "pycharm": {
     "name": "#%%\n",
     "is_executing": true
    },
    "scrolled": false
   },
   "outputs": [],
   "source": [
    "start_time = time.perf_counter()\n",
    "external_stylesheets = ['https://codepen.io/chriddyp/pen/bWLwgP.css']\n",
    "app = dash.Dash(__name__, external_stylesheets=external_stylesheets)\n",
    "\n",
    "### Extract energy data ###\n",
    "(x_data, y_data, z_data, en_data) =  Utils.EnergyExtract(work_dir,energies_filename)\n",
    "MolData = numpy.genfromtxt(work_dir + coord_filename)\n",
    "\n",
    "data_loaded = time.perf_counter()\n",
    "\n",
    "print(f\"Time taken to import data is {data_loaded - start_time} seconds\")\n",
    "\n",
    "### Generate spheres ###\n",
    "(x_sphere, y_sphere, z_sphere) = Utils.SphereGen(0,0,0,1,resolution)\n",
    "\n",
    "colour_start = time.perf_counter()\n",
    "\n",
    "print(f\"Time taken to generate sphere is {colour_start - data_loaded} seconds\")\n",
    "\n",
    "### Generate colors and contours ###\n",
    "(col_sphere, x_contour, y_contour, z_contour, val_contour) = Utils.GenColors(x_sphere, y_sphere, z_sphere, x_data, y_data, z_data, en_data, radius)\n",
    "\n",
    "color_end = time.perf_counter()\n",
    "\n",
    "print(f\"Time taken to interpolate and generate color data is {color_end - colour_start} seconds\")\n"
   ]
  },
  {
   "cell_type": "markdown",
   "metadata": {
    "pycharm": {
     "name": "#%% md\n"
    }
   },
   "source": [
    "__[Link to Visualisation](http://127.0.0.1:8050/)__"
   ]
  },
  {
   "cell_type": "code",
   "execution_count": null,
   "metadata": {
    "pycharm": {
     "name": "#%%\n",
     "is_executing": true
    }
   },
   "outputs": [
    {
     "name": "stdout",
     "output_type": "stream",
     "text": [
      "Dash is running on http://0.0.0.0:8050/\n",
      "\n",
      "Dash is running on http://0.0.0.0:8050/\n",
      "\n",
      " * Serving Flask app '__main__' (lazy loading)\n",
      " * Environment: production\n",
      "\u001B[31m   WARNING: This is a development server. Do not use it in a production deployment.\u001B[0m\n",
      "\u001B[2m   Use a production WSGI server instead.\u001B[0m\n",
      " * Debug mode: on\n"
     ]
    }
   ],
   "source": [
    "external_stylesheets = ['https://codepen.io/chriddyp/pen/bWLwgP.css']\n",
    "\n",
    "app = dash.Dash(__name__, external_stylesheets=external_stylesheets)\n",
    "app.layout = html.Div([\n",
    "#     html.Div(children=[html.H1(children=\"Spherical visualisation tool\",style={'text-align' : 'center'})]),\n",
    "#     html.Div(children=[\n",
    "#         html.Div(children=[\n",
    "#             html.H3(children=\"Sphere opacity\",style={'display': 'inline-block'}),\n",
    "#             dcc.Slider(id='alphval', min=0, max=1, step=0.05, value=0.8,style={'display': 'inline-block'})\n",
    "#         ],),\n",
    "#     ],),\n",
    "#     html.Div(children=[\n",
    "#         html.Div(children=[\n",
    "#             html.H3(children=\"Interpolation data\",style={'display': 'inline-block'}),\n",
    "#             dcc.RadioItems(id='interp',options=[\"None\",\"Sphere\",\"Contours\"],value=\"Sphere\",inline=True,style={'display': 'inline-block'}),\n",
    "#         ]),\n",
    "#     ]),\n",
    "    html.H1(children=\"Spherical visualisation tool\",style={'text-align' : 'center'}),\n",
    "    html.H3(\"Sphere opacity\"),\n",
    "    dcc.Slider(id='alphval', min=0, max=1, step=0.05, value=0.8),\n",
    "    html.H3(\"Interpolation data\"),\n",
    "    dcc.RadioItems(id='interp',options=[\"None\",\"Sphere\",\"Contours\"],value=\"Sphere\",inline=True),\n",
    "    html.H3(\"Molecule texture style\"),\n",
    "    dcc.RadioItems(id='texture',options=[\"matte\",\"shiny\",\"orbs\"],value=\"orbs\",inline=True),\n",
    "    html.H3(\"Molecule draw style\"),\n",
    "    dcc.RadioItems(id='draw_type',options=[\"ball_and_stick\",\"tubes\",\"wireframe\",\"spacefilling\"],value=\"tubes\",inline=True),\n",
    "    dcc.Graph(id=\"graph\"),\n",
    "])\n",
    "\n",
    "\n",
    "@app.callback(Output('graph','figure'),Input('alphval','value'),Input('interp','value'),Input('texture','value'),Input('draw_type','value'))\n",
    "def update_graph(alphval,interp,texture,draw_type):\n",
    "    Fig = go.Figure(layout = go.Layout(title=\"Visualisation\",uirevision='camera'))\n",
    "    Fig.update_layout(autosize=True, width=1000, height=1000)\n",
    "    Molecule = Utils.DrawMolecule(MolData,texture,draw_type)\n",
    "    for Bond in Molecule['bond_list']: Fig.add_trace(Bond)\n",
    "    for Atom in Molecule['atom_list']: Fig.add_trace(Atom)\n",
    "    Fig.update_layout(Utils.GetLayout(None))\n",
    "    # MinRange = numpy.min(Molecule['geometry'])\n",
    "    # MaxRange = numpy.max(Molecule['geometry'])\n",
    "    # Fig.update_layout(Utils.GetRange(MinRange,MaxRange))\n",
    "    Sphere = go.Surface(x=x_sphere*radius, y=y_sphere*radius, z=z_sphere*radius, customdata=col_sphere, opacity=alphval,surfacecolor=col_sphere,contours={\"x\":{\"show\":True},\"y\":{\"show\":True},\"z\":{\"show\":True}},colorscale='Turbo')\n",
    "    Energies = go.Scatter3d(x=x_data,y=y_data,z=z_data,mode='markers',marker=dict(size=5,color=en_data,colorscale='Turbo',opacity=1))\n",
    "    Contours = go.Scatter3d(x=x_contour,y=y_contour,z=z_contour,mode='markers',marker=dict(size=3,color='black'),hovertext=val_contour)\n",
    "    Fig.add_trace(Energies)\n",
    "    if interp == \"Sphere\" or \"Contours\": Fig.add_trace(Sphere)\n",
    "    if interp == \"Contours\":  Fig.add_trace(Contours)\n",
    "    return Fig\n",
    "\n",
    "app.run_server(debug=True, use_reloader=False, host='0.0.0.0')"
   ]
  },
  {
   "cell_type": "code",
   "execution_count": 6,
   "metadata": {
    "pycharm": {
     "name": "#%%\n"
    }
   },
   "outputs": [],
   "source": []
  }
 ],
 "metadata": {
  "kernelspec": {
   "display_name": "Python 3 (ipykernel)",
   "language": "python",
   "name": "python3"
  },
  "language_info": {
   "codemirror_mode": {
    "name": "ipython",
    "version": 3
   },
   "file_extension": ".py",
   "mimetype": "text/x-python",
   "name": "python",
   "nbconvert_exporter": "python",
   "pygments_lexer": "ipython3",
   "version": "3.9.7"
  }
 },
 "nbformat": 4,
 "nbformat_minor": 1
}