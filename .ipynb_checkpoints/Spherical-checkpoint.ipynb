{
 "cells": [
  {
   "cell_type": "code",
   "execution_count": 8,
   "metadata": {
    "pycharm": {
     "name": "#%%\n"
    }
   },
   "outputs": [],
   "source": [
    "### Import all extra functions ###\n",
    "\n",
    "import plotly.graph_objects as go\n",
    "import numpy as numpy\n",
    "import dash\n",
    "from dash import dcc\n",
    "from dash import html\n",
    "from dash.dependencies import Input, Output\n",
    "import time\n",
    "import Utils ### Custom function scripts, Thanks to Tom Irons of the Teale group (UoN School of Chemistry) for molecule generation code. 19/7/22 ###\n"
   ]
  },
  {
   "cell_type": "markdown",
   "metadata": {
    "pycharm": {
     "name": "#%% md\n"
    }
   },
   "source": [
    "# Variables input section"
   ]
  },
  {
   "cell_type": "code",
   "execution_count": 9,
   "metadata": {
    "pycharm": {
     "name": "#%%\n"
    }
   },
   "outputs": [],
   "source": [
    "### Variables ###\n",
    "work_dir = \"/data/Taxadiene_Charge/SOBE/\" ### Folder with all relevant files. Needs to end in / ###\n",
    "server = \"LOCAL\" ### Set to login001.augusta.nottingham.ac.uk for HPC access, if \"LOCAL\", no server will be used. ###\n",
    "qm_package = \"QChem\" ### Set to either QChem or GAUSSIAN ###\n",
    "host_work_dir = \"/home/pcyra2/Taxadiene_Spherical/SOBD/\" ### Folder on server for calculations. Needs to end in / ###\n",
    "start_coordinate = \"SOBE.xyz\" ### Currently only supports .xyz files, although new file types can be added easily ###\n",
    "calculate_data = True ### Whether to run the data calculations (if you're just doing analysis, set to False) ###\n",
    "qm_functional = \"PBE\"\n",
    "qm_basis_set = \"6-31+G*\"\n",
    "qm_dispersion = \"EMPIRICAL_GRIMME\"\n",
    "system_spin = \"1\" ### Spin/multiplicity in the format the QM package requires, no calculation is performed on this and is used \"as is\" ###\n",
    "system_charge = \"1\"\n",
    "spherical_datapoints = 300 ### Number of single point calculations required ###\n",
    "charge_value = 3 ### Value of point charges around the sphere ###\n",
    "radius = 30 ### Radius of sphere ###\n",
    "threads = 4 ### Number of threads to give each single point calculation ###\n",
    "mem = 2 ### Ammount of memory to give each single point calculation ###\n",
    "random = True ### Decides whether spherical points are random or uniform ###\n",
    "gen_newcoord = True ### Decides whether to generate new coordinate file in format for later visualisation ###\n",
    "gen_newcharge = False\n",
    "recenter = True ### Decides whether to recenter the coordinates if not already in the center. ###\n",
    "center_type = \"simple\" ### either simple, mass weighted, atom, or translate ###\n",
    "center_info = [] ### if atom, put atom number in array, if translate, put coordinates in array ([x,y,z]) ###\n",
    "coord_filename = \"coords_formatted.txt\" ### Coord file, with format X, Y, Z, Atomic number (hint: H = 1, C = 6, N = 7, O = 8), (only change if adding own file) ###\n",
    "energies_filename = \"Energy.xyzc\" ### Spherical energy file, with format X, Y, Z, C (only change if you're adding your own file) ###\n",
    "resolution=200 ### Resolution of sphere, increase to improve contours but decrease for speed, Suggest 100 ###\n"
   ]
  },
  {
   "cell_type": "markdown",
   "metadata": {
    "pycharm": {
     "name": "#%% md\n"
    }
   },
   "source": [
    " # Data generation section"
   ]
  },
  {
   "cell_type": "code",
   "execution_count": 10,
   "metadata": {
    "pycharm": {
     "name": "#%%\n"
    }
   },
   "outputs": [
    {
     "name": "stdout",
     "output_type": "stream",
     "text": [
      "Center of coordinates is 73.22 54.68001886792454 37.01005660377358\n",
      "Warning, your system is not centered about the origin using simple metrics\n",
      "Generating input files\n",
      "{'SHELL': '/bin/bash', 'SESSION_MANAGER': 'local/DUIP76109:@/tmp/.ICE-unix/7264,unix/DUIP76109:/tmp/.ICE-unix/7264', 'QT_ACCESSIBILITY': '1', 'COLORTERM': 'truecolor', 'XDG_CONFIG_DIRS': '/etc/xdg/xdg-ubuntu:/etc/xdg', 'XDG_MENU_PREFIX': 'gnome-', 'GNOME_DESKTOP_SESSION_ID': 'this-is-deprecated', 'CONDA_EXE': '/home/pcyra2/anaconda3/bin/conda', '_CE_M': '', 'LANGUAGE': 'en_GB:en', 'TERMINATOR_DBUS_PATH': '/net/tenshu/Terminator2', 'MANDATORY_PATH': '/usr/share/gconf/ubuntu.mandatory.path', 'GNOME_SHELL_SESSION_MODE': 'ubuntu', 'SSH_AUTH_SOCK': '/run/user/1002/keyring/ssh', 'TERMINATOR_UUID': 'urn:uuid:7b2a86c7-a578-4f85-810b-878d30710994', 'XMODIFIERS': '@im=ibus', 'DESKTOP_SESSION': 'ubuntu', 'SSH_AGENT_PID': '7224', 'GTK_MODULES': 'gail:atk-bridge', 'ENV': '/usr/share/modules/init/profile.sh', 'PWD': '/home/pcyra2/PycharmProjects/ElectricField', 'GSETTINGS_SCHEMA_DIR': '/home/pcyra2/anaconda3/envs/ElectricField/share/glib-2.0/schemas', 'LOGNAME': 'pcyra2', 'XDG_SESSION_DESKTOP': 'ubuntu', 'XDG_SESSION_TYPE': 'x11', 'CONDA_PREFIX': '/home/pcyra2/anaconda3/envs/ElectricField', 'MODULESHOME': '/usr/share/modules', 'MANPATH': ':', 'GPG_AGENT_INFO': '/run/user/1002/gnupg/S.gpg-agent:0:1', 'GSETTINGS_SCHEMA_DIR_CONDA_BACKUP': '', 'XAUTHORITY': '/run/user/1002/gdm/Xauthority', 'GJS_DEBUG_TOPICS': 'JS ERROR;JS LOG', 'WINDOWPATH': '2', 'HOME': '/home/pcyra2', 'USERNAME': 'pcyra2', 'LANG': 'en_GB.UTF-8', 'LS_COLORS': 'rs=0:di=01;34:ln=01;36:mh=00:pi=40;33:so=01;35:do=01;35:bd=40;33;01:cd=40;33;01:or=40;31;01:mi=00:su=37;41:sg=30;43:ca=30;41:tw=30;42:ow=34;42:st=37;44:ex=01;32:*.tar=01;31:*.tgz=01;31:*.arc=01;31:*.arj=01;31:*.taz=01;31:*.lha=01;31:*.lz4=01;31:*.lzh=01;31:*.lzma=01;31:*.tlz=01;31:*.txz=01;31:*.tzo=01;31:*.t7z=01;31:*.zip=01;31:*.z=01;31:*.dz=01;31:*.gz=01;31:*.lrz=01;31:*.lz=01;31:*.lzo=01;31:*.xz=01;31:*.zst=01;31:*.tzst=01;31:*.bz2=01;31:*.bz=01;31:*.tbz=01;31:*.tbz2=01;31:*.tz=01;31:*.deb=01;31:*.rpm=01;31:*.jar=01;31:*.war=01;31:*.ear=01;31:*.sar=01;31:*.rar=01;31:*.alz=01;31:*.ace=01;31:*.zoo=01;31:*.cpio=01;31:*.7z=01;31:*.rz=01;31:*.cab=01;31:*.wim=01;31:*.swm=01;31:*.dwm=01;31:*.esd=01;31:*.jpg=01;35:*.jpeg=01;35:*.mjpg=01;35:*.mjpeg=01;35:*.gif=01;35:*.bmp=01;35:*.pbm=01;35:*.pgm=01;35:*.ppm=01;35:*.tga=01;35:*.xbm=01;35:*.xpm=01;35:*.tif=01;35:*.tiff=01;35:*.png=01;35:*.svg=01;35:*.svgz=01;35:*.mng=01;35:*.pcx=01;35:*.mov=01;35:*.mpg=01;35:*.mpeg=01;35:*.m2v=01;35:*.mkv=01;35:*.webm=01;35:*.ogm=01;35:*.mp4=01;35:*.m4v=01;35:*.mp4v=01;35:*.vob=01;35:*.qt=01;35:*.nuv=01;35:*.wmv=01;35:*.asf=01;35:*.rm=01;35:*.rmvb=01;35:*.flc=01;35:*.avi=01;35:*.fli=01;35:*.flv=01;35:*.gl=01;35:*.dl=01;35:*.xcf=01;35:*.xwd=01;35:*.yuv=01;35:*.cgm=01;35:*.emf=01;35:*.ogv=01;35:*.ogx=01;35:*.aac=00;36:*.au=00;36:*.flac=00;36:*.m4a=00;36:*.mid=00;36:*.midi=00;36:*.mka=00;36:*.mp3=00;36:*.mpc=00;36:*.ogg=00;36:*.ra=00;36:*.wav=00;36:*.oga=00;36:*.opus=00;36:*.spx=00;36:*.xspf=00;36:', 'XDG_CURRENT_DESKTOP': 'ubuntu:GNOME', 'VTE_VERSION': '6003', 'CONDA_PROMPT_MODIFIER': '(ElectricField) ', 'INVOCATION_ID': '258d7730ce5d4babb4328f7d1646fc46', 'TERMINATOR_DBUS_NAME': 'net.tenshu.Terminator23558193cd9818af7fe4d2c2f5bd9d00f', 'MANAGERPID': '6960', 'GJS_DEBUG_OUTPUT': 'stderr', 'LESSCLOSE': '/usr/bin/lesspipe %s %s', 'MODULEPATH_modshare': '/opt/intel/oneapi/modulefiles:1:/home/pcyra2/MODULES:1:/etc/environment-modules/modules:1:/usr/share/modules/$MODULE_VERSION/modulefiles:1:/usr/share/modules/versions:1:/usr/share/modules/modulefiles:1', 'XDG_SESSION_CLASS': 'user', 'TERM': 'xterm-color', '_CE_CONDA': '', 'DEFAULTS_PATH': '/usr/share/gconf/ubuntu.default.path', 'LESSOPEN': '| /usr/bin/lesspipe %s', 'USER': 'pcyra2', 'CONDA_SHLVL': '2', 'LOADEDMODULES': '', 'DISPLAY': ':1', 'SHLVL': '1', 'BASH_ENV': '/usr/share/modules/init/bash', 'QT_IM_MODULE': 'ibus', 'CONDA_PYTHON_EXE': '/home/pcyra2/anaconda3/bin/python', 'XDG_RUNTIME_DIR': '/run/user/1002', 'CONDA_DEFAULT_ENV': 'ElectricField', 'JOURNAL_STREAM': '8:99060', 'XDG_DATA_DIRS': '/usr/share/ubuntu:/usr/local/share/:/usr/share/:/var/lib/snapd/desktop', 'PATH': '/usr/sbin:/sbin:/home/pcyra2/anaconda3/envs/ElectricField/bin:/home/pcyra2/anaconda3/condabin:/usr/local/sbin:/usr/local/bin:/usr/sbin:/usr/bin:/sbin:/bin:/usr/games:/usr/local/games:/snap/bin', 'MODULEPATH': '/opt/intel/oneapi/modulefiles:/home/pcyra2/MODULES:/etc/environment-modules/modules:/usr/share/modules/versions:/usr/share/modules/$MODULE_VERSION/modulefiles:/usr/share/modules/modulefiles', 'GDMSESSION': 'ubuntu', 'DBUS_SESSION_BUS_ADDRESS': 'unix:path=/run/user/1002/bus', 'CONDA_PREFIX_1': '/home/pcyra2/anaconda3', 'GIO_LAUNCHED_DESKTOP_FILE_PID': '1095726', 'GIO_LAUNCHED_DESKTOP_FILE': '/usr/share/applications/terminator.desktop', 'OLDPWD': '/home/pcyra2', 'MODULES_CMD': '/usr/lib/x86_64-linux-gnu/modulecmd.tcl', 'BASH_FUNC_switchml%%': '() {  typeset swfound=1;\\n if [ \"${MODULES_USE_COMPAT_VERSION:-0}\" = \\'1\\' ]; then\\n typeset swname=\\'main\\';\\n if [ -e /usr/lib/x86_64-linux-gnu/modulecmd.tcl ]; then\\n typeset swfound=0;\\n unset MODULES_USE_COMPAT_VERSION;\\n fi;\\n else\\n typeset swname=\\'compatibility\\';\\n if [ -e /usr/lib/x86_64-linux-gnu/modulecmd-compat ]; then\\n typeset swfound=0;\\n MODULES_USE_COMPAT_VERSION=1;\\n export MODULES_USE_COMPAT_VERSION;\\n fi;\\n fi;\\n if [ $swfound -eq 0 ]; then\\n echo \"Switching to Modules $swname version\";\\n source /usr/share/modules/init/bash;\\n else\\n echo \"Cannot switch to Modules $swname version, command not found\";\\n return 1;\\n fi\\n}', 'BASH_FUNC_module%%': '() {  _module_raw \"$@\" 2>&1\\n}', 'BASH_FUNC__module_raw%%': '() {  unset _mlshdbg;\\n if [ \"${MODULES_SILENT_SHELL_DEBUG:-0}\" = \\'1\\' ]; then\\n case \"$-\" in \\n *v*x*)\\n set +vx;\\n _mlshdbg=\\'vx\\'\\n ;;\\n *v*)\\n set +v;\\n _mlshdbg=\\'v\\'\\n ;;\\n *x*)\\n set +x;\\n _mlshdbg=\\'x\\'\\n ;;\\n *)\\n _mlshdbg=\\'\\'\\n ;;\\n esac;\\n fi;\\n unset _mlre _mlIFS;\\n if [ -n \"${IFS+x}\" ]; then\\n _mlIFS=$IFS;\\n fi;\\n IFS=\\' \\';\\n for _mlv in ${MODULES_RUN_QUARANTINE:-};\\n do\\n if [ \"${_mlv}\" = \"${_mlv##*[!A-Za-z0-9_]}\" -a \"${_mlv}\" = \"${_mlv#[0-9]}\" ]; then\\n if [ -n \"`eval \\'echo ${\\'$_mlv\\'+x}\\'`\" ]; then\\n _mlre=\"${_mlre:-}${_mlv}_modquar=\\'`eval \\'echo ${\\'$_mlv\\'}\\'`\\' \";\\n fi;\\n _mlrv=\"MODULES_RUNENV_${_mlv}\";\\n _mlre=\"${_mlre:-}${_mlv}=\\'`eval \\'echo ${\\'$_mlrv\\':-}\\'`\\' \";\\n fi;\\n done;\\n if [ -n \"${_mlre:-}\" ]; then\\n eval `eval ${_mlre}/usr/bin/tclsh8.6 /usr/lib/x86_64-linux-gnu/modulecmd.tcl bash \\'\"$@\"\\'`;\\n else\\n eval `/usr/bin/tclsh8.6 /usr/lib/x86_64-linux-gnu/modulecmd.tcl bash \"$@\"`;\\n fi;\\n _mlstatus=$?;\\n if [ -n \"${_mlIFS+x}\" ]; then\\n IFS=$_mlIFS;\\n else\\n unset IFS;\\n fi;\\n unset _mlre _mlv _mlrv _mlIFS;\\n if [ -n \"${_mlshdbg:-}\" ]; then\\n set -$_mlshdbg;\\n fi;\\n unset _mlshdbg;\\n return $_mlstatus\\n}', '_': '/home/pcyra2/anaconda3/envs/ElectricField/bin/jupyter', 'PYDEVD_USE_FRAME_EVAL': 'NO', 'JPY_PARENT_PID': '1096275', 'CLICOLOR': '1', 'PAGER': 'cat', 'GIT_PAGER': 'cat', 'MPLBACKEND': 'module://matplotlib_inline.backend_inline'}\n",
      "Starting Calculations locally\n"
     ]
    },
    {
     "name": "stderr",
     "output_type": "stream",
     "text": [
      "/usr/bin/sh: 1: qchem: not found\n",
      "/usr/bin/sh: 1: qchem: not found\n",
      "/usr/bin/sh: 1: qchem: not found\n",
      "/usr/bin/sh: 1: qchem: not found\n",
      "/usr/bin/sh: 1: qchem: not found\n",
      "/usr/bin/sh: 1: qchem: not found\n",
      "/usr/bin/sh: 1: qchem: not found\n",
      "/usr/bin/sh: 1: qchem: not found\n",
      "/usr/bin/sh: 1: qchem: not found\n",
      "/usr/bin/sh: 1: qchem: not found\n",
      "/usr/bin/sh: 1: qchem: not found\n",
      "/usr/bin/sh: 1: qchem: not found\n",
      "/usr/bin/sh: 1: qchem: not found\n",
      "/usr/bin/sh: 1: qchem: not found\n",
      "/usr/bin/sh: 1: qchem: not found\n",
      "/usr/bin/sh: 1: qchem: not found\n",
      "/usr/bin/sh: 1: qchem: not found\n",
      "/usr/bin/sh: 1: qchem: not found\n",
      "/usr/bin/sh: 1: qchem: not found\n",
      "/usr/bin/sh: 1: qchem: not found\n",
      "/usr/bin/sh: 1: qchem: not found\n",
      "/usr/bin/sh: 1: qchem: not found\n",
      "/usr/bin/sh: 1: qchem: not found\n",
      "/usr/bin/sh: 1: qchem: not found\n",
      "/usr/bin/sh: 1: qchem: not found\n",
      "/usr/bin/sh: 1: qchem: not found\n",
      "/usr/bin/sh: 1: qchem: not found\n",
      "/usr/bin/sh: 1: qchem: not found\n",
      "/usr/bin/sh: 1: qchem: not found\n",
      "/usr/bin/sh: 1: qchem: not found\n",
      "/usr/bin/sh: 1: qchem: not found\n",
      "/usr/bin/sh: 1: qchem: not found\n",
      "/usr/bin/sh: 1: qchem: not found\n",
      "/usr/bin/sh: 1: qchem: not found\n",
      "/usr/bin/sh: 1: qchem: not found\n",
      "/usr/bin/sh: 1: qchem: not found\n",
      "/usr/bin/sh: 1: qchem: not found\n",
      "/usr/bin/sh: 1: qchem: not found\n",
      "/usr/bin/sh: 1: qchem: not found\n",
      "/usr/bin/sh: 1: qchem: not found\n",
      "/usr/bin/sh: 1: qchem: not found\n",
      "/usr/bin/sh: 1: qchem: not found\n",
      "/usr/bin/sh: 1: qchem: not found\n",
      "/usr/bin/sh: 1: qchem: not found\n",
      "/usr/bin/sh: 1: qchem: not found\n",
      "/usr/bin/sh: 1: qchem: not found\n",
      "/usr/bin/sh: 1: qchem: not found\n",
      "/usr/bin/sh: 1: qchem: not found\n",
      "/usr/bin/sh: 1: qchem: not found\n",
      "/usr/bin/sh: 1: qchem: not found\n",
      "/usr/bin/sh: 1: qchem: not found\n",
      "/usr/bin/sh: 1: qchem: not found\n",
      "/usr/bin/sh: 1: qchem: not found\n",
      "/usr/bin/sh: 1: qchem: not found\n",
      "/usr/bin/sh: 1: qchem: not found\n",
      "/usr/bin/sh: 1: qchem: not found\n",
      "/usr/bin/sh: 1: qchem: not found\n",
      "/usr/bin/sh: 1: qchem: not found\n",
      "/usr/bin/sh: 1: qchem: not found\n",
      "/usr/bin/sh: 1: qchem: not found\n",
      "/usr/bin/sh: 1: qchem: not found\n",
      "/usr/bin/sh: 1: qchem: not found\n",
      "/usr/bin/sh: 1: qchem: not found\n",
      "/usr/bin/sh: 1: qchem: not found\n",
      "/usr/bin/sh: 1: qchem: not found\n",
      "/usr/bin/sh: 1: qchem: not found\n",
      "/usr/bin/sh: 1: qchem: not found\n",
      "/usr/bin/sh: 1: qchem: not found\n",
      "/usr/bin/sh: 1: qchem: not found\n",
      "/usr/bin/sh: 1: qchem: not found\n",
      "/usr/bin/sh: 1: qchem: not found\n",
      "/usr/bin/sh: 1: qchem: not found\n",
      "/usr/bin/sh: 1: qchem: not found\n",
      "/usr/bin/sh: 1: qchem: not found\n",
      "/usr/bin/sh: 1: qchem: not found\n",
      "/usr/bin/sh: 1: qchem: not found\n",
      "/usr/bin/sh: 1: qchem: not found\n",
      "/usr/bin/sh: 1: qchem: not found\n",
      "/usr/bin/sh: 1: qchem: not found\n",
      "/usr/bin/sh: 1: qchem: not found\n",
      "/usr/bin/sh: 1: qchem: not found\n",
      "/usr/bin/sh: 1: qchem: not found\n",
      "/usr/bin/sh: 1: qchem: not found\n",
      "/usr/bin/sh: 1: qchem: not found\n",
      "/usr/bin/sh: 1: qchem: not found\n",
      "/usr/bin/sh: 1: qchem: not found\n",
      "/usr/bin/sh: 1: qchem: not found\n",
      "/usr/bin/sh: 1: qchem: not found\n",
      "/usr/bin/sh: 1: qchem: not found\n",
      "/usr/bin/sh: 1: qchem: not found\n",
      "/usr/bin/sh: 1: qchem: not found\n",
      "/usr/bin/sh: 1: qchem: not found\n",
      "/usr/bin/sh: 1: qchem: not found\n",
      "/usr/bin/sh: 1: qchem: not found\n",
      "/usr/bin/sh: 1: qchem: not found\n",
      "/usr/bin/sh: 1: qchem: not found\n",
      "/usr/bin/sh: 1: qchem: not found\n",
      "/usr/bin/sh: 1: qchem: not found\n",
      "/usr/bin/sh: 1: qchem: not found\n",
      "/usr/bin/sh: 1: qchem: not found\n",
      "/usr/bin/sh: 1: qchem: not found\n",
      "/usr/bin/sh: 1: qchem: not found\n",
      "/usr/bin/sh: 1: qchem: not found\n",
      "/usr/bin/sh: 1: qchem: not found\n",
      "/usr/bin/sh: 1: qchem: not found\n",
      "/usr/bin/sh: 1: qchem: not found\n",
      "/usr/bin/sh: 1: qchem: not found\n",
      "/usr/bin/sh: 1: qchem: not found\n",
      "/usr/bin/sh: 1: qchem: not found\n",
      "/usr/bin/sh: 1: qchem: not found\n",
      "/usr/bin/sh: 1: qchem: not found\n",
      "/usr/bin/sh: 1: qchem: not found\n",
      "/usr/bin/sh: 1: qchem: not found\n",
      "/usr/bin/sh: 1: qchem: not found\n",
      "/usr/bin/sh: 1: qchem: not found\n",
      "/usr/bin/sh: 1: qchem: not found\n",
      "/usr/bin/sh: 1: qchem: not found\n",
      "/usr/bin/sh: 1: qchem: not found\n",
      "/usr/bin/sh: 1: qchem: not found\n",
      "/usr/bin/sh: 1: qchem: not found\n",
      "/usr/bin/sh: 1: qchem: not found\n",
      "/usr/bin/sh: 1: qchem: not found\n",
      "/usr/bin/sh: 1: qchem: not found\n",
      "/usr/bin/sh: 1: qchem: not found\n",
      "/usr/bin/sh: 1: qchem: not found\n",
      "/usr/bin/sh: 1: qchem: not found\n",
      "/usr/bin/sh: 1: qchem: not found\n",
      "/usr/bin/sh: 1: qchem: not found\n",
      "/usr/bin/sh: 1: qchem: not found\n",
      "/usr/bin/sh: 1: qchem: not found\n",
      "/usr/bin/sh: 1: qchem: not found\n",
      "/usr/bin/sh: 1: qchem: not found\n",
      "/usr/bin/sh: 1: qchem: not found\n",
      "/usr/bin/sh: 1: qchem: not found\n",
      "/usr/bin/sh: 1: qchem: not found\n",
      "/usr/bin/sh: 1: qchem: not found\n",
      "/usr/bin/sh: 1: qchem: not found\n",
      "/usr/bin/sh: 1: qchem: not found\n",
      "/usr/bin/sh: 1: qchem: not found\n",
      "/usr/bin/sh: 1: qchem: not found\n",
      "/usr/bin/sh: 1: qchem: not found\n",
      "/usr/bin/sh: 1: qchem: not found\n",
      "/usr/bin/sh: 1: qchem: not found\n",
      "/usr/bin/sh: 1: qchem: not found\n",
      "/usr/bin/sh: 1: qchem: not found\n",
      "/usr/bin/sh: 1: qchem: not found\n",
      "/usr/bin/sh: 1: qchem: not found\n",
      "/usr/bin/sh: 1: qchem: not found\n",
      "/usr/bin/sh: 1: qchem: not found\n",
      "/usr/bin/sh: 1: qchem: not found\n",
      "/usr/bin/sh: 1: qchem: not found\n",
      "/usr/bin/sh: 1: qchem: not found\n",
      "/usr/bin/sh: 1: qchem: not found\n",
      "/usr/bin/sh: 1: qchem: not found\n",
      "/usr/bin/sh: 1: qchem: not found\n",
      "/usr/bin/sh: 1: qchem: not found\n",
      "/usr/bin/sh: 1: qchem: not found\n",
      "/usr/bin/sh: 1: qchem: not found\n",
      "/usr/bin/sh: 1: qchem: not found\n",
      "/usr/bin/sh: 1: qchem: not found\n",
      "/usr/bin/sh: 1: qchem: not found\n",
      "/usr/bin/sh: 1: qchem: not found\n"
     ]
    },
    {
     "name": "stdout",
     "output_type": "stream",
     "text": [
      "Single Point Calculations Complete\n"
     ]
    },
    {
     "name": "stderr",
     "output_type": "stream",
     "text": [
      "/usr/bin/sh: 1: qchem: not found\n",
      "/usr/bin/sh: 1: qchem: not found\n",
      "/usr/bin/sh: 1: qchem: not found\n",
      "/usr/bin/sh: 1: qchem: not found\n",
      "/usr/bin/sh: 1: qchem: not found\n",
      "/usr/bin/sh: 1: qchem: not found\n",
      "/usr/bin/sh: 1: qchem: not found\n",
      "/usr/bin/sh: 1: qchem: not found\n",
      "/usr/bin/sh: 1: qchem: not found\n",
      "/usr/bin/sh: 1: qchem: not found\n",
      "/usr/bin/sh: 1: qchem: not found\n",
      "/usr/bin/sh: 1: qchem: not found\n",
      "/usr/bin/sh: 1: qchem: not found\n",
      "/usr/bin/sh: 1: qchem: not found\n",
      "/usr/bin/sh: 1: qchem: not found\n",
      "/usr/bin/sh: 1: qchem: not found\n",
      "/usr/bin/sh: 1: qchem: not found\n",
      "/usr/bin/sh: 1: qchem: not found\n",
      "/usr/bin/sh: 1: qchem: not found\n",
      "/usr/bin/sh: 1: qchem: not found\n",
      "/usr/bin/sh: 1: qchem: not found\n",
      "/usr/bin/sh: 1: qchem: not found\n",
      "/usr/bin/sh: 1: qchem: not found\n",
      "/usr/bin/sh: 1: qchem: not found\n",
      "/usr/bin/sh: 1: qchem: not found\n",
      "/usr/bin/sh: 1: qchem: not found\n",
      "/usr/bin/sh: 1: qchem: not found\n",
      "/usr/bin/sh: 1: qchem: not found\n",
      "/usr/bin/sh: 1: qchem: not found\n",
      "/usr/bin/sh: 1: qchem: not found\n",
      "/usr/bin/sh: 1: qchem: not found\n",
      "/usr/bin/sh: 1: qchem: not found\n",
      "/usr/bin/sh: 1: qchem: not found\n",
      "/usr/bin/sh: 1: qchem: not found\n",
      "/usr/bin/sh: 1: qchem: not found\n",
      "/usr/bin/sh: 1: qchem: not found\n",
      "/usr/bin/sh: 1: qchem: not found\n",
      "/usr/bin/sh: 1: qchem: not found\n",
      "/usr/bin/sh: 1: qchem: not found\n",
      "/usr/bin/sh: 1: qchem: not found\n",
      "/usr/bin/sh: 1: qchem: not found\n",
      "/usr/bin/sh: 1: qchem: not found\n",
      "/usr/bin/sh: 1: qchem: not found\n",
      "/usr/bin/sh: 1: qchem: not found\n",
      "/usr/bin/sh: 1: qchem: not found\n",
      "/usr/bin/sh: 1: qchem: not found\n",
      "/usr/bin/sh: 1: qchem: not found\n",
      "/usr/bin/sh: 1: qchem: not found\n",
      "/usr/bin/sh: 1: qchem: not found\n",
      "/usr/bin/sh: 1: qchem: not found\n",
      "/usr/bin/sh: 1: qchem: not found\n",
      "/usr/bin/sh: 1: qchem: not found\n",
      "/usr/bin/sh: 1: qchem: not found\n",
      "/usr/bin/sh: 1: qchem: not found\n",
      "/usr/bin/sh: 1: qchem: not found\n",
      "/usr/bin/sh: 1: qchem: not found\n",
      "/usr/bin/sh: 1: qchem: not found\n",
      "/usr/bin/sh: 1: qchem: not found\n",
      "/usr/bin/sh: 1: qchem: not found\n",
      "/usr/bin/sh: 1: qchem: not found\n",
      "/usr/bin/sh: 1: qchem: not found\n",
      "/usr/bin/sh: 1: qchem: not found\n",
      "/usr/bin/sh: 1: qchem: not found\n",
      "/usr/bin/sh: 1: qchem: not found\n",
      "/usr/bin/sh: 1: qchem: not found\n",
      "/usr/bin/sh: 1: qchem: not found\n",
      "/usr/bin/sh: 1: qchem: not found\n",
      "/usr/bin/sh: 1: qchem: not found\n",
      "/usr/bin/sh: 1: qchem: not found\n",
      "/usr/bin/sh: 1: qchem: not found\n",
      "/usr/bin/sh: 1: qchem: not found\n",
      "/usr/bin/sh: 1: qchem: not found\n",
      "/usr/bin/sh: 1: qchem: not found\n",
      "/usr/bin/sh: 1: qchem: not found\n",
      "/usr/bin/sh: 1: qchem: not found\n",
      "/usr/bin/sh: 1: qchem: not found\n",
      "/usr/bin/sh: 1: qchem: not found\n",
      "/usr/bin/sh: 1: qchem: not found\n",
      "/usr/bin/sh: 1: qchem: not found\n",
      "/usr/bin/sh: 1: qchem: not found\n",
      "/usr/bin/sh: 1: qchem: not found\n",
      "/usr/bin/sh: 1: qchem: not found\n",
      "/usr/bin/sh: 1: qchem: not found\n",
      "/usr/bin/sh: 1: qchem: not found\n",
      "/usr/bin/sh: 1: qchem: not found\n",
      "/usr/bin/sh: 1: qchem: not found\n",
      "/usr/bin/sh: 1: qchem: not found\n",
      "/usr/bin/sh: 1: qchem: not found\n",
      "/usr/bin/sh: 1: qchem: not found\n",
      "/usr/bin/sh: 1: qchem: not found\n",
      "/usr/bin/sh: 1: qchem: not found\n",
      "/usr/bin/sh: 1: qchem: not found\n",
      "/usr/bin/sh: 1: qchem: not found\n",
      "/usr/bin/sh: 1: qchem: not found\n",
      "/usr/bin/sh: 1: qchem: not found\n",
      "/usr/bin/sh: 1: qchem: not found\n",
      "/usr/bin/sh: 1: qchem: not found\n",
      "/usr/bin/sh: 1: qchem: not found\n",
      "/usr/bin/sh: 1: qchem: not found\n",
      "/usr/bin/sh: 1: qchem: not found\n",
      "/usr/bin/sh: 1: qchem: not found\n",
      "/usr/bin/sh: 1: qchem: not found\n",
      "/usr/bin/sh: 1: qchem: not found\n",
      "/usr/bin/sh: 1: qchem: not found\n",
      "/usr/bin/sh: 1: qchem: not found\n",
      "/usr/bin/sh: 1: qchem: not found\n",
      "/usr/bin/sh: 1: qchem: not found\n",
      "/usr/bin/sh: 1: qchem: not found\n",
      "/usr/bin/sh: 1: qchem: not found\n",
      "/usr/bin/sh: 1: qchem: not found\n",
      "/usr/bin/sh: 1: qchem: not found\n",
      "/usr/bin/sh: 1: qchem: not found\n",
      "/usr/bin/sh: 1: qchem: not found\n",
      "/usr/bin/sh: 1: qchem: not found\n",
      "/usr/bin/sh: 1: qchem: not found\n",
      "/usr/bin/sh: 1: qchem: not found\n",
      "/usr/bin/sh: 1: qchem: not found\n",
      "/usr/bin/sh: 1: qchem: not found\n",
      "/usr/bin/sh: 1: qchem: not found\n",
      "/usr/bin/sh: 1: qchem: not found\n",
      "/usr/bin/sh: 1: qchem: not found\n",
      "/usr/bin/sh: 1: qchem: not found\n",
      "/usr/bin/sh: 1: qchem: not found\n",
      "/usr/bin/sh: 1: qchem: not found\n",
      "/usr/bin/sh: 1: qchem: not found\n",
      "/usr/bin/sh: 1: qchem: not found\n",
      "/usr/bin/sh: 1: qchem: not found\n",
      "/usr/bin/sh: 1: qchem: not found\n",
      "/usr/bin/sh: 1: qchem: not found\n",
      "/usr/bin/sh: 1: qchem: not found\n",
      "/usr/bin/sh: 1: qchem: not found\n",
      "/usr/bin/sh: 1: qchem: not found\n",
      "/usr/bin/sh: 1: qchem: not found\n",
      "/usr/bin/sh: 1: qchem: not found\n",
      "/usr/bin/sh: 1: qchem: not found\n",
      "/usr/bin/sh: 1: qchem: not found\n",
      "/usr/bin/sh: 1: qchem: not found\n",
      "/usr/bin/sh: 1: qchem: not found\n",
      "/usr/bin/sh: 1: qchem: not found\n"
     ]
    }
   ],
   "source": [
    "### Calculation setup ###\n",
    "if calculate_data == True:\n",
    "    (type_atom, x_atom, y_atom, z_atom) = Utils.CoordGet(work_dir,start_coordinate) ### loads in initial coordinates ###\n",
    "\n",
    "    (x_atom, y_atom, z_atom) = Utils.CoordCheck(type_atom, x_atom, y_atom, z_atom, recenter, center_type, center_info) ### Checks the coordinates to make sure they exist and locates the center of the system ###\n",
    "\n",
    "    if gen_newcoord == True:    Utils.FormatCoord(type_atom, x_atom, y_atom, z_atom,work_dir) ### Generates formatted coordinate file if requested ###\n",
    "\n",
    "    if gen_newcharge == True:    \n",
    "        if random == True: Utils.RandomCoords(work_dir,spherical_datapoints,radius) ### Generates random spherical points ###\n",
    "        else: ### Generates non-random points about the sphere ###\n",
    "            print(\"Warning, this method is currently unsupported and probably doesnt work. DONT USE UNLESS YOU HAVE FIXED IT\")\n",
    "            (px,py,pz) = Utils.SphereGen(0,0,0,radius,spherical_datapoints)\n",
    "            with open(work_dir + \"ChargeP.xyz\",'w') as f:\n",
    "                for i in range(len(px)):\n",
    "                    print(str(px[i])+\"\\t\"+str(py[i])+\"\\t\"+str(pz[i]),file=f)\n",
    "            with open(work_dir + \"ChargeN.xyz\",'w') as f:\n",
    "                for i in range(len(px)):\n",
    "                    print(str(-px[i])+\"\\t\"+str(-py[i])+\"\\t\"+str(-pz[i]),file=f)\n",
    "\n",
    "    print(\"Generating input files\")\n",
    "\n",
    "    Utils.GenSP(type_atom, x_atom, y_atom, z_atom, work_dir, charge_value, mem, threads, qm_functional, qm_basis_set, system_charge, system_spin, qm_dispersion, qm_package)\n",
    "\n",
    "    Utils.SPRun(work_dir,mem,threads,spherical_datapoints,host_work_dir,server,qm_package)\n",
    "else:\n",
    "    print(\"Data should already be calculated.\")\n"
   ]
  },
  {
   "cell_type": "code",
   "execution_count": 4,
   "metadata": {
    "pycharm": {
     "name": "#%%\n"
    }
   },
   "outputs": [
    {
     "name": "stdout",
     "output_type": "stream",
     "text": [
      "Total number of failed jobs is 0\n"
     ]
    }
   ],
   "source": [
    "### For local runs, this is required. ###\n",
    "\n",
    "failed = Utils.OutputExtract(work_dir,spherical_datapoints,threads,qm_package)"
   ]
  },
  {
   "cell_type": "markdown",
   "metadata": {
    "pycharm": {
     "name": "#%% md\n"
    }
   },
   "source": [
    "# Analysis section"
   ]
  },
  {
   "cell_type": "code",
   "execution_count": 5,
   "metadata": {
    "pycharm": {
     "name": "#%%\n"
    }
   },
   "outputs": [],
   "source": [
    "### THIS CELL IS DEPRECIATED, Kept for debugging perposes only ###\n",
    "\n",
    "\n",
    "# ### Variables, This is the only part that you should edit. ###\n",
    "# # work_dir = \"/data/COLABS/Christof_MARKO/planarB3LYP/\" ### Folder with all relevant files ###\n",
    "# coord_filename = \"coords_formatted.txt\" ### Coord file, with format X, Y, Z, Atomic number (hint: H = 1, C = 6, N = 7, O = 8)###\n",
    "# energies_filename = \"Energy.xyzc\" ### Spherical energy file, with format X, Y, Z, C ###\n",
    "# # radius = 9 ### Radius of sphere ###\n",
    "# resolution=20 ### Resolution of sphere ###"
   ]
  },
  {
   "cell_type": "code",
   "execution_count": 6,
   "metadata": {
    "pycharm": {
     "name": "#%%\n"
    }
   },
   "outputs": [
    {
     "name": "stdout",
     "output_type": "stream",
     "text": [
      "Time taken to import data is 0.007663661846891046 seconds\n",
      "Time taken to generate sphere is 0.006442378042265773 seconds\n"
     ]
    },
    {
     "data": {
      "application/vnd.jupyter.widget-view+json": {
       "model_id": "48a98ed3652b4af0a0e72a5b6c5eeddd",
       "version_major": 2,
       "version_minor": 0
      },
      "text/plain": [
       "Color progress:   0%|          | 0/400 [00:00<?, ?it/s]"
      ]
     },
     "metadata": {},
     "output_type": "display_data"
    },
    {
     "data": {
      "application/vnd.jupyter.widget-view+json": {
       "model_id": "",
       "version_major": 2,
       "version_minor": 0
      },
      "text/plain": [
       "Step 0 progress:   0%|          | 0/200 [00:00<?, ?it/s]"
      ]
     },
     "metadata": {},
     "output_type": "display_data"
    },
    {
     "data": {
      "application/vnd.jupyter.widget-view+json": {
       "model_id": "",
       "version_major": 2,
       "version_minor": 0
      },
      "text/plain": [
       "Step 1 progress:   0%|          | 0/200 [00:00<?, ?it/s]"
      ]
     },
     "metadata": {},
     "output_type": "display_data"
    },
    {
     "data": {
      "application/vnd.jupyter.widget-view+json": {
       "model_id": "",
       "version_major": 2,
       "version_minor": 0
      },
      "text/plain": [
       "Step 2 progress:   0%|          | 0/200 [00:00<?, ?it/s]"
      ]
     },
     "metadata": {},
     "output_type": "display_data"
    },
    {
     "data": {
      "application/vnd.jupyter.widget-view+json": {
       "model_id": "",
       "version_major": 2,
       "version_minor": 0
      },
      "text/plain": [
       "Step 3 progress:   0%|          | 0/200 [00:00<?, ?it/s]"
      ]
     },
     "metadata": {},
     "output_type": "display_data"
    },
    {
     "data": {
      "application/vnd.jupyter.widget-view+json": {
       "model_id": "",
       "version_major": 2,
       "version_minor": 0
      },
      "text/plain": [
       "Step 4 progress:   0%|          | 0/200 [00:00<?, ?it/s]"
      ]
     },
     "metadata": {},
     "output_type": "display_data"
    },
    {
     "data": {
      "application/vnd.jupyter.widget-view+json": {
       "model_id": "",
       "version_major": 2,
       "version_minor": 0
      },
      "text/plain": [
       "Step 5 progress:   0%|          | 0/200 [00:00<?, ?it/s]"
      ]
     },
     "metadata": {},
     "output_type": "display_data"
    },
    {
     "data": {
      "application/vnd.jupyter.widget-view+json": {
       "model_id": "",
       "version_major": 2,
       "version_minor": 0
      },
      "text/plain": [
       "Step 6 progress:   0%|          | 0/200 [00:00<?, ?it/s]"
      ]
     },
     "metadata": {},
     "output_type": "display_data"
    },
    {
     "data": {
      "application/vnd.jupyter.widget-view+json": {
       "model_id": "",
       "version_major": 2,
       "version_minor": 0
      },
      "text/plain": [
       "Step 7 progress:   0%|          | 0/200 [00:00<?, ?it/s]"
      ]
     },
     "metadata": {},
     "output_type": "display_data"
    },
    {
     "data": {
      "application/vnd.jupyter.widget-view+json": {
       "model_id": "",
       "version_major": 2,
       "version_minor": 0
      },
      "text/plain": [
       "Step 8 progress:   0%|          | 0/200 [00:00<?, ?it/s]"
      ]
     },
     "metadata": {},
     "output_type": "display_data"
    },
    {
     "data": {
      "application/vnd.jupyter.widget-view+json": {
       "model_id": "",
       "version_major": 2,
       "version_minor": 0
      },
      "text/plain": [
       "Step 9 progress:   0%|          | 0/200 [00:00<?, ?it/s]"
      ]
     },
     "metadata": {},
     "output_type": "display_data"
    },
    {
     "data": {
      "application/vnd.jupyter.widget-view+json": {
       "model_id": "",
       "version_major": 2,
       "version_minor": 0
      },
      "text/plain": [
       "Step 10 progress:   0%|          | 0/200 [00:00<?, ?it/s]"
      ]
     },
     "metadata": {},
     "output_type": "display_data"
    },
    {
     "data": {
      "application/vnd.jupyter.widget-view+json": {
       "model_id": "",
       "version_major": 2,
       "version_minor": 0
      },
      "text/plain": [
       "Step 11 progress:   0%|          | 0/200 [00:00<?, ?it/s]"
      ]
     },
     "metadata": {},
     "output_type": "display_data"
    },
    {
     "data": {
      "application/vnd.jupyter.widget-view+json": {
       "model_id": "",
       "version_major": 2,
       "version_minor": 0
      },
      "text/plain": [
       "Step 12 progress:   0%|          | 0/200 [00:00<?, ?it/s]"
      ]
     },
     "metadata": {},
     "output_type": "display_data"
    },
    {
     "data": {
      "application/vnd.jupyter.widget-view+json": {
       "model_id": "",
       "version_major": 2,
       "version_minor": 0
      },
      "text/plain": [
       "Step 13 progress:   0%|          | 0/200 [00:00<?, ?it/s]"
      ]
     },
     "metadata": {},
     "output_type": "display_data"
    },
    {
     "data": {
      "application/vnd.jupyter.widget-view+json": {
       "model_id": "",
       "version_major": 2,
       "version_minor": 0
      },
      "text/plain": [
       "Step 14 progress:   0%|          | 0/200 [00:00<?, ?it/s]"
      ]
     },
     "metadata": {},
     "output_type": "display_data"
    },
    {
     "data": {
      "application/vnd.jupyter.widget-view+json": {
       "model_id": "",
       "version_major": 2,
       "version_minor": 0
      },
      "text/plain": [
       "Step 15 progress:   0%|          | 0/200 [00:00<?, ?it/s]"
      ]
     },
     "metadata": {},
     "output_type": "display_data"
    },
    {
     "data": {
      "application/vnd.jupyter.widget-view+json": {
       "model_id": "",
       "version_major": 2,
       "version_minor": 0
      },
      "text/plain": [
       "Step 16 progress:   0%|          | 0/200 [00:00<?, ?it/s]"
      ]
     },
     "metadata": {},
     "output_type": "display_data"
    },
    {
     "data": {
      "application/vnd.jupyter.widget-view+json": {
       "model_id": "",
       "version_major": 2,
       "version_minor": 0
      },
      "text/plain": [
       "Step 17 progress:   0%|          | 0/200 [00:00<?, ?it/s]"
      ]
     },
     "metadata": {},
     "output_type": "display_data"
    },
    {
     "data": {
      "application/vnd.jupyter.widget-view+json": {
       "model_id": "",
       "version_major": 2,
       "version_minor": 0
      },
      "text/plain": [
       "Step 18 progress:   0%|          | 0/200 [00:00<?, ?it/s]"
      ]
     },
     "metadata": {},
     "output_type": "display_data"
    },
    {
     "data": {
      "application/vnd.jupyter.widget-view+json": {
       "model_id": "",
       "version_major": 2,
       "version_minor": 0
      },
      "text/plain": [
       "Step 19 progress:   0%|          | 0/200 [00:00<?, ?it/s]"
      ]
     },
     "metadata": {},
     "output_type": "display_data"
    },
    {
     "data": {
      "application/vnd.jupyter.widget-view+json": {
       "model_id": "a37b33968f574b3a80fbb5864449f686",
       "version_major": 2,
       "version_minor": 0
      },
      "text/plain": [
       "Step 20 progress:   0%|          | 0/200 [00:00<?, ?it/s]"
      ]
     },
     "metadata": {},
     "output_type": "display_data"
    },
    {
     "ename": "KeyboardInterrupt",
     "evalue": "",
     "output_type": "error",
     "traceback": [
      "\u001b[0;31m---------------------------------------------------------------------------\u001b[0m",
      "\u001b[0;31mKeyboardInterrupt\u001b[0m                         Traceback (most recent call last)",
      "Input \u001b[0;32mIn [6]\u001b[0m, in \u001b[0;36m<cell line: 21>\u001b[0;34m()\u001b[0m\n\u001b[1;32m     18\u001b[0m \u001b[38;5;28mprint\u001b[39m(\u001b[38;5;124mf\u001b[39m\u001b[38;5;124m\"\u001b[39m\u001b[38;5;124mTime taken to generate sphere is \u001b[39m\u001b[38;5;132;01m{\u001b[39;00mcolour_start \u001b[38;5;241m-\u001b[39m data_loaded\u001b[38;5;132;01m}\u001b[39;00m\u001b[38;5;124m seconds\u001b[39m\u001b[38;5;124m\"\u001b[39m)\n\u001b[1;32m     20\u001b[0m \u001b[38;5;66;03m### Generate colors and contours ###\u001b[39;00m\n\u001b[0;32m---> 21\u001b[0m (col_sphere, x_contour, y_contour, z_contour, val_contour) \u001b[38;5;241m=\u001b[39m \u001b[43mUtils\u001b[49m\u001b[38;5;241;43m.\u001b[39;49m\u001b[43mGenColors\u001b[49m\u001b[43m(\u001b[49m\u001b[43mx_sphere\u001b[49m\u001b[43m,\u001b[49m\u001b[43m \u001b[49m\u001b[43my_sphere\u001b[49m\u001b[43m,\u001b[49m\u001b[43m \u001b[49m\u001b[43mz_sphere\u001b[49m\u001b[43m,\u001b[49m\u001b[43m \u001b[49m\u001b[43mx_data\u001b[49m\u001b[43m,\u001b[49m\u001b[43m \u001b[49m\u001b[43my_data\u001b[49m\u001b[43m,\u001b[49m\u001b[43m \u001b[49m\u001b[43mz_data\u001b[49m\u001b[43m,\u001b[49m\u001b[43m \u001b[49m\u001b[43men_data\u001b[49m\u001b[43m,\u001b[49m\u001b[43m \u001b[49m\u001b[43mradius\u001b[49m\u001b[43m)\u001b[49m\n\u001b[1;32m     23\u001b[0m color_end \u001b[38;5;241m=\u001b[39m time\u001b[38;5;241m.\u001b[39mperf_counter()\n\u001b[1;32m     25\u001b[0m \u001b[38;5;28mprint\u001b[39m(\u001b[38;5;124mf\u001b[39m\u001b[38;5;124m\"\u001b[39m\u001b[38;5;124mTime taken to interpolate and generate color data is \u001b[39m\u001b[38;5;132;01m{\u001b[39;00mcolor_end \u001b[38;5;241m-\u001b[39m colour_start\u001b[38;5;132;01m}\u001b[39;00m\u001b[38;5;124m seconds\u001b[39m\u001b[38;5;124m\"\u001b[39m)\n",
      "File \u001b[0;32m~/PycharmProjects/ElectricField/Utils.py:565\u001b[0m, in \u001b[0;36mGenColors\u001b[0;34m(x_sphere, y_sphere, z_sphere, x_data, y_data, z_data, en_data, radius)\u001b[0m\n\u001b[1;32m    563\u001b[0m     dz \u001b[38;5;241m=\u001b[39m (z_sphere[i,j] \u001b[38;5;241m*\u001b[39m radius) \u001b[38;5;241m*\u001b[39m z_data[k]\n\u001b[1;32m    564\u001b[0m     dP \u001b[38;5;241m=\u001b[39m numpy\u001b[38;5;241m.\u001b[39marccos((dx\u001b[38;5;241m+\u001b[39mdy\u001b[38;5;241m+\u001b[39mdz)\u001b[38;5;241m/\u001b[39m(numpy\u001b[38;5;241m.\u001b[39mpower(radius,\u001b[38;5;241m2\u001b[39m)))\u001b[38;5;241m*\u001b[39mradius\n\u001b[0;32m--> 565\u001b[0m     top \u001b[38;5;241m=\u001b[39m top \u001b[38;5;241m+\u001b[39m en_data[k] \u001b[38;5;241m*\u001b[39m numpy\u001b[38;5;241m.\u001b[39mexp(\u001b[38;5;241m-\u001b[39m\u001b[43mnumpy\u001b[49m\u001b[38;5;241;43m.\u001b[39;49m\u001b[43mpower\u001b[49m\u001b[43m(\u001b[49m\u001b[43mdP\u001b[49m\u001b[43m,\u001b[49m\u001b[38;5;241;43m2\u001b[39;49m\u001b[43m)\u001b[49m)\n\u001b[1;32m    566\u001b[0m     bottom \u001b[38;5;241m=\u001b[39m bottom \u001b[38;5;241m+\u001b[39m numpy\u001b[38;5;241m.\u001b[39mexp(\u001b[38;5;241m-\u001b[39mnumpy\u001b[38;5;241m.\u001b[39mpower(dP,\u001b[38;5;241m2\u001b[39m))\n\u001b[1;32m    567\u001b[0m \u001b[38;5;66;03m# print(top, bottom)\u001b[39;00m\n",
      "\u001b[0;31mKeyboardInterrupt\u001b[0m: "
     ]
    }
   ],
   "source": [
    "start_time = time.perf_counter()\n",
    "external_stylesheets = ['https://codepen.io/chriddyp/pen/bWLwgP.css']\n",
    "app = dash.Dash(__name__, external_stylesheets=external_stylesheets)\n",
    "\n",
    "### Extract energy data ###\n",
    "(x_data, y_data, z_data, en_data) =  Utils.EnergyExtract(work_dir,energies_filename)\n",
    "MolData = numpy.genfromtxt(work_dir + coord_filename)\n",
    "\n",
    "data_loaded = time.perf_counter()\n",
    "\n",
    "print(f\"Time taken to import data is {data_loaded - start_time} seconds\")\n",
    "\n",
    "### Generate spheres ###\n",
    "(x_sphere, y_sphere, z_sphere) = Utils.SphereGen(0,0,0,1,resolution)\n",
    "\n",
    "colour_start = time.perf_counter()\n",
    "\n",
    "print(f\"Time taken to generate sphere is {colour_start - data_loaded} seconds\")\n",
    "\n",
    "### Generate colors and contours ###\n",
    "(col_sphere, x_contour, y_contour, z_contour, val_contour) = Utils.GenColors(x_sphere, y_sphere, z_sphere, x_data, y_data, z_data, en_data, radius)\n",
    "\n",
    "color_end = time.perf_counter()\n",
    "\n",
    "print(f\"Time taken to interpolate and generate color data is {color_end - colour_start} seconds\")\n"
   ]
  },
  {
   "cell_type": "markdown",
   "metadata": {
    "pycharm": {
     "name": "#%% md\n"
    }
   },
   "source": [
    "__[Link to Visualisation](http://127.0.0.1:8050/)__"
   ]
  },
  {
   "cell_type": "code",
   "execution_count": null,
   "metadata": {
    "pycharm": {
     "name": "#%%\n"
    }
   },
   "outputs": [],
   "source": [
    "external_stylesheets = ['https://codepen.io/chriddyp/pen/bWLwgP.css']\n",
    "\n",
    "app = dash.Dash(__name__, external_stylesheets=external_stylesheets)\n",
    "app.layout = html.Div([\n",
    "#     html.Div(children=[html.H1(children=\"Spherical visualisation tool\",style={'text-align' : 'center'})]),\n",
    "#     html.Div(children=[\n",
    "#         html.Div(children=[\n",
    "#             html.H3(children=\"Sphere opacity\",style={'display': 'inline-block'}),\n",
    "#             dcc.Slider(id='alphval', min=0, max=1, step=0.05, value=0.8,style={'display': 'inline-block'})\n",
    "#         ],),\n",
    "#     ],),\n",
    "#     html.Div(children=[\n",
    "#         html.Div(children=[\n",
    "#             html.H3(children=\"Interpolation data\",style={'display': 'inline-block'}),\n",
    "#             dcc.RadioItems(id='interp',options=[\"None\",\"Sphere\",\"Contours\"],value=\"Sphere\",inline=True,style={'display': 'inline-block'}),\n",
    "#         ]),\n",
    "#     ]),\n",
    "    html.H1(children=\"Spherical visualisation tool\",style={'text-align' : 'center'}),\n",
    "    html.H3(\"Sphere opacity\"),\n",
    "    dcc.Slider(id='alphval', min=0, max=1, step=0.05, value=0.8),\n",
    "    html.H3(\"Interpolation data\"),\n",
    "    dcc.RadioItems(id='interp',options=[\"None\",\"Sphere\",\"Contours\"],value=\"Sphere\",inline=True),\n",
    "    html.H3(\"Molecule texture style\"),\n",
    "    dcc.RadioItems(id='texture',options=[\"matte\",\"shiny\",\"orbs\"],value=\"orbs\",inline=True),\n",
    "    html.H3(\"Molecule draw style\"),\n",
    "    dcc.RadioItems(id='draw_type',options=[\"ball_and_stick\",\"tubes\",\"wireframe\",\"spacefilling\"],value=\"tubes\",inline=True),\n",
    "    dcc.Graph(id=\"graph\"),\n",
    "])\n",
    "\n",
    "\n",
    "@app.callback(Output('graph','figure'),Input('alphval','value'),Input('interp','value'),Input('texture','value'),Input('draw_type','value'))\n",
    "def update_graph(alphval,interp,texture,draw_type):\n",
    "    Fig = go.Figure(layout = go.Layout(title=\"Visualisation\",uirevision='camera'))\n",
    "    Fig.update_layout(autosize=True, width=1000, height=1000)\n",
    "    Molecule = Utils.DrawMolecule(MolData,texture,draw_type)\n",
    "    for Bond in Molecule['bond_list']: Fig.add_trace(Bond)\n",
    "    for Atom in Molecule['atom_list']: Fig.add_trace(Atom)\n",
    "    Fig.update_layout(Utils.GetLayout(None))\n",
    "    # MinRange = numpy.min(Molecule['geometry'])\n",
    "    # MaxRange = numpy.max(Molecule['geometry'])\n",
    "    # Fig.update_layout(Utils.GetRange(MinRange,MaxRange))\n",
    "    Sphere = go.Surface(x=x_sphere*radius, y=y_sphere*radius, z=z_sphere*radius, customdata=col_sphere, opacity=alphval,surfacecolor=col_sphere,contours={\"x\":{\"show\":True},\"y\":{\"show\":True},\"z\":{\"show\":True}},colorscale='Turbo')\n",
    "    Energies = go.Scatter3d(x=x_data,y=y_data,z=z_data,mode='markers',marker=dict(size=5,color=en_data,colorscale='Turbo',opacity=1))\n",
    "    Contours = go.Scatter3d(x=x_contour,y=y_contour,z=z_contour,mode='markers',marker=dict(size=3,color='black'),hovertext=val_contour)\n",
    "    Fig.add_trace(Energies)\n",
    "    if interp == \"Sphere\" or \"Contours\": Fig.add_trace(Sphere)\n",
    "    if interp == \"Contours\":  Fig.add_trace(Contours)\n",
    "    return Fig\n",
    "\n",
    "app.run_server(debug=True, use_reloader=False, host='0.0.0.0')"
   ]
  }
 ],
 "metadata": {
  "kernelspec": {
   "display_name": "Python 3 (ipykernel)",
   "language": "python",
   "name": "python3"
  },
  "language_info": {
   "codemirror_mode": {
    "name": "ipython",
    "version": 3
   },
   "file_extension": ".py",
   "mimetype": "text/x-python",
   "name": "python",
   "nbconvert_exporter": "python",
   "pygments_lexer": "ipython3",
   "version": "3.10.5"
  }
 },
 "nbformat": 4,
 "nbformat_minor": 1
}
